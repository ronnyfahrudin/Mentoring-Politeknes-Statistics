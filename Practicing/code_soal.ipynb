{
 "cells": [
  {
   "cell_type": "markdown",
   "metadata": {},
   "source": [
    "<h3> Pada Latihan ini teman-teman diberi waktu 20 menit untuk mengerjakan soal membuat visualisasi dengan matplotlib, seabron, atau selainnya. Data yang digunakan adalah data tentang harga Bitcoin. Jika kalian ingin eksplore lebih lanjut bisa juga kok. guys.</h3>\n",
    "<h3>Selamat Mengerjakan</h3>"
   ]
  },
  {
   "cell_type": "markdown",
   "metadata": {},
   "source": [
    "<h1>1. Buatlah visualisasi dengan matplotlib atau Seaborn untuk melihat Trend harga Bitcoin</h1>"
   ]
  },
  {
   "cell_type": "code",
   "execution_count": null,
   "metadata": {},
   "outputs": [],
   "source": []
  },
  {
   "cell_type": "markdown",
   "metadata": {},
   "source": [
    "<h1>2. Buatlah Matrix Correlation dari data tersebut</h1>"
   ]
  },
  {
   "cell_type": "code",
   "execution_count": null,
   "metadata": {},
   "outputs": [],
   "source": []
  }
 ],
 "metadata": {
  "kernelspec": {
   "display_name": "Python 3",
   "language": "python",
   "name": "python3"
  },
  "language_info": {
   "codemirror_mode": {
    "name": "ipython",
    "version": 3
   },
   "file_extension": ".py",
   "mimetype": "text/x-python",
   "name": "python",
   "nbconvert_exporter": "python",
   "pygments_lexer": "ipython3",
   "version": "3.8.5"
  }
 },
 "nbformat": 4,
 "nbformat_minor": 4
}
